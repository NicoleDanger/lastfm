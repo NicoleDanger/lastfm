{
 "cells": [
  {
   "cell_type": "code",
   "execution_count": 69,
   "metadata": {},
   "outputs": [],
   "source": [
    "import pandas as pd\n",
    "scrobbles_df = pd.read_csv('./data/scrobbles.csv')"
   ]
  },
  {
   "cell_type": "code",
   "execution_count": 70,
   "metadata": {},
   "outputs": [
    {
     "data": {
      "text/plain": [
       "Index(['uts', 'utc_time', 'artist', 'artist_mbid', 'album', 'album_mbid',\n",
       "       'track', 'track_mbid'],\n",
       "      dtype='object')"
      ]
     },
     "execution_count": 70,
     "metadata": {},
     "output_type": "execute_result"
    }
   ],
   "source": [
    "scrobbles_df.columns"
   ]
  },
  {
   "cell_type": "code",
   "execution_count": 71,
   "metadata": {},
   "outputs": [
    {
     "data": {
      "text/plain": [
       "(91504, 8)"
      ]
     },
     "execution_count": 71,
     "metadata": {},
     "output_type": "execute_result"
    }
   ],
   "source": [
    "scrobbles_df.shape"
   ]
  },
  {
   "cell_type": "code",
   "execution_count": 72,
   "metadata": {},
   "outputs": [
    {
     "name": "stdout",
     "output_type": "stream",
     "text": [
      "<class 'pandas.core.frame.DataFrame'>\n",
      "RangeIndex: 91504 entries, 0 to 91503\n",
      "Data columns (total 8 columns):\n",
      " #   Column       Non-Null Count  Dtype \n",
      "---  ------       --------------  ----- \n",
      " 0   uts          91504 non-null  int64 \n",
      " 1   utc_time     91504 non-null  object\n",
      " 2   artist       91504 non-null  object\n",
      " 3   artist_mbid  75918 non-null  object\n",
      " 4   album        82179 non-null  object\n",
      " 5   album_mbid   59548 non-null  object\n",
      " 6   track        91504 non-null  object\n",
      " 7   track_mbid   60623 non-null  object\n",
      "dtypes: int64(1), object(7)\n",
      "memory usage: 5.6+ MB\n"
     ]
    }
   ],
   "source": [
    "scrobbles_df.info()"
   ]
  },
  {
   "cell_type": "code",
   "execution_count": 73,
   "metadata": {},
   "outputs": [
    {
     "data": {
      "text/plain": [
       "album_mbid     31956\n",
       "track_mbid     30881\n",
       "artist_mbid    15586\n",
       "album           9325\n",
       "uts                0\n",
       "utc_time           0\n",
       "artist             0\n",
       "track              0\n",
       "dtype: int64"
      ]
     },
     "execution_count": 73,
     "metadata": {},
     "output_type": "execute_result"
    }
   ],
   "source": [
    "scrobbles_df.isnull().sum().sort_values(ascending=False)"
   ]
  },
  {
   "cell_type": "code",
   "execution_count": 74,
   "metadata": {},
   "outputs": [
    {
     "data": {
      "text/html": [
       "<div>\n",
       "<style scoped>\n",
       "    .dataframe tbody tr th:only-of-type {\n",
       "        vertical-align: middle;\n",
       "    }\n",
       "\n",
       "    .dataframe tbody tr th {\n",
       "        vertical-align: top;\n",
       "    }\n",
       "\n",
       "    .dataframe thead th {\n",
       "        text-align: right;\n",
       "    }\n",
       "</style>\n",
       "<table border=\"1\" class=\"dataframe\">\n",
       "  <thead>\n",
       "    <tr style=\"text-align: right;\">\n",
       "      <th></th>\n",
       "      <th>utc_time</th>\n",
       "      <th>artist</th>\n",
       "      <th>album</th>\n",
       "      <th>track</th>\n",
       "    </tr>\n",
       "  </thead>\n",
       "  <tbody>\n",
       "    <tr>\n",
       "      <th>0</th>\n",
       "      <td>08 Mar 2023, 22:50</td>\n",
       "      <td>Nine Inch Nails</td>\n",
       "      <td>Ghosts I-IV</td>\n",
       "      <td>30 Ghosts IV</td>\n",
       "    </tr>\n",
       "    <tr>\n",
       "      <th>1</th>\n",
       "      <td>08 Mar 2023, 22:42</td>\n",
       "      <td>Nine Inch Nails</td>\n",
       "      <td>Ghosts I-IV</td>\n",
       "      <td>28 Ghosts IV</td>\n",
       "    </tr>\n",
       "    <tr>\n",
       "      <th>2</th>\n",
       "      <td>08 Mar 2023, 22:39</td>\n",
       "      <td>Nine Inch Nails</td>\n",
       "      <td>Ghosts I-IV</td>\n",
       "      <td>27 Ghosts III</td>\n",
       "    </tr>\n",
       "    <tr>\n",
       "      <th>3</th>\n",
       "      <td>08 Mar 2023, 22:37</td>\n",
       "      <td>Nine Inch Nails</td>\n",
       "      <td>Ghosts I-IV</td>\n",
       "      <td>26 Ghosts III</td>\n",
       "    </tr>\n",
       "    <tr>\n",
       "      <th>4</th>\n",
       "      <td>08 Mar 2023, 22:35</td>\n",
       "      <td>Nine Inch Nails</td>\n",
       "      <td>Ghosts I-IV</td>\n",
       "      <td>25 Ghosts III</td>\n",
       "    </tr>\n",
       "    <tr>\n",
       "      <th>...</th>\n",
       "      <td>...</td>\n",
       "      <td>...</td>\n",
       "      <td>...</td>\n",
       "      <td>...</td>\n",
       "    </tr>\n",
       "    <tr>\n",
       "      <th>91499</th>\n",
       "      <td>13 Feb 2005, 10:20</td>\n",
       "      <td>Soundtracks</td>\n",
       "      <td>NaN</td>\n",
       "      <td>Not Meant For Me</td>\n",
       "    </tr>\n",
       "    <tr>\n",
       "      <th>91500</th>\n",
       "      <td>13 Feb 2005, 10:20</td>\n",
       "      <td>White Zombie</td>\n",
       "      <td>NaN</td>\n",
       "      <td>More Human Than Human (KMFDM m</td>\n",
       "    </tr>\n",
       "    <tr>\n",
       "      <th>91501</th>\n",
       "      <td>13 Feb 2005, 10:20</td>\n",
       "      <td>Clipse</td>\n",
       "      <td>NaN</td>\n",
       "      <td>WHENS THE LAST TIME YA HEARD IT LIKE DIS</td>\n",
       "    </tr>\n",
       "    <tr>\n",
       "      <th>91502</th>\n",
       "      <td>13 Feb 2005, 10:20</td>\n",
       "      <td>Korn</td>\n",
       "      <td>NaN</td>\n",
       "      <td>Wake Up Hate</td>\n",
       "    </tr>\n",
       "    <tr>\n",
       "      <th>91503</th>\n",
       "      <td>13 Feb 2005, 10:20</td>\n",
       "      <td>Korn</td>\n",
       "      <td>NaN</td>\n",
       "      <td>Beat It Upright</td>\n",
       "    </tr>\n",
       "  </tbody>\n",
       "</table>\n",
       "<p>91504 rows × 4 columns</p>\n",
       "</div>"
      ],
      "text/plain": [
       "                 utc_time           artist        album  \\\n",
       "0      08 Mar 2023, 22:50  Nine Inch Nails  Ghosts I-IV   \n",
       "1      08 Mar 2023, 22:42  Nine Inch Nails  Ghosts I-IV   \n",
       "2      08 Mar 2023, 22:39  Nine Inch Nails  Ghosts I-IV   \n",
       "3      08 Mar 2023, 22:37  Nine Inch Nails  Ghosts I-IV   \n",
       "4      08 Mar 2023, 22:35  Nine Inch Nails  Ghosts I-IV   \n",
       "...                   ...              ...          ...   \n",
       "91499  13 Feb 2005, 10:20      Soundtracks          NaN   \n",
       "91500  13 Feb 2005, 10:20     White Zombie          NaN   \n",
       "91501  13 Feb 2005, 10:20           Clipse          NaN   \n",
       "91502  13 Feb 2005, 10:20             Korn          NaN   \n",
       "91503  13 Feb 2005, 10:20             Korn          NaN   \n",
       "\n",
       "                                          track  \n",
       "0                                  30 Ghosts IV  \n",
       "1                                  28 Ghosts IV  \n",
       "2                                 27 Ghosts III  \n",
       "3                                 26 Ghosts III  \n",
       "4                                 25 Ghosts III  \n",
       "...                                         ...  \n",
       "91499                          Not Meant For Me  \n",
       "91500            More Human Than Human (KMFDM m  \n",
       "91501  WHENS THE LAST TIME YA HEARD IT LIKE DIS  \n",
       "91502                              Wake Up Hate  \n",
       "91503                           Beat It Upright  \n",
       "\n",
       "[91504 rows x 4 columns]"
      ]
     },
     "execution_count": 74,
     "metadata": {},
     "output_type": "execute_result"
    }
   ],
   "source": [
    "scrobbles_df.drop(['uts','artist_mbid','track_mbid','album_mbid'], axis=1, inplace=True)\n",
    "scrobbles_df"
   ]
  }
 ],
 "metadata": {
  "kernelspec": {
   "display_name": "venv",
   "language": "python",
   "name": "python3"
  },
  "language_info": {
   "codemirror_mode": {
    "name": "ipython",
    "version": 3
   },
   "file_extension": ".py",
   "mimetype": "text/x-python",
   "name": "python",
   "nbconvert_exporter": "python",
   "pygments_lexer": "ipython3",
   "version": "3.11.1"
  },
  "orig_nbformat": 4
 },
 "nbformat": 4,
 "nbformat_minor": 2
}
